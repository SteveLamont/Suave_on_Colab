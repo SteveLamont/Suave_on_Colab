{
  "cells": [
    {
      "cell_type": "markdown",
      "id": "29705668",
      "metadata": {
        "id": "29705668",
        "papermill": {},
        "tags": []
      },
      "source": [
        "## Packages"
      ]
    },
    {
      "cell_type": "code",
      "execution_count": null,
      "id": "lzBY3R2XSHWs",
      "metadata": {
        "colab": {
          "base_uri": "https://localhost:8080/"
        },
        "id": "lzBY3R2XSHWs",
        "outputId": "71bc29c9-8c34-42d7-fea3-bab44c91cc7f"
      },
      "outputs": [],
      "source": [
        "!pip install pyvis\n",
        "! pip install https://github.com/pandas-profiling/pandas-profiling/archive/master.zip\n",
        "import os\n",
        "os._exit(00)"
      ]
    },
    {
      "cell_type": "markdown",
      "id": "6250b090",
      "metadata": {},
      "source": [
        "After you installed the packages, make sure to re-run the first cell to define all the variables and do not install the packages again."
      ]
    },
    {
      "cell_type": "markdown",
      "id": "3131648f-a175-47c2-9e06-d67df4046812",
      "metadata": {
        "id": "3131648f-a175-47c2-9e06-d67df4046812",
        "papermill": {},
        "tags": []
      },
      "source": [
        "# SuAVE Network Analysis"
      ]
    },
    {
      "cell_type": "code",
      "execution_count": 2,
      "id": "726182d3-56bb-4684-9055-e6066fdb53a8",
      "metadata": {
        "colab": {
          "base_uri": "https://localhost:8080/"
        },
        "id": "726182d3-56bb-4684-9055-e6066fdb53a8",
        "outputId": "9260b819-f90f-4f0b-e0df-23d83a5cdd29",
        "papermill": {},
        "tags": []
      },
      "outputs": [
        {
          "name": "stdout",
          "output_type": "stream",
          "text": [
            "Drive already mounted at /content/drive; to attempt to forcibly remount, call drive.mount(\"/content/drive\", force_remount=True).\n",
            "Cloning into 'myclone'...\n",
            "remote: Enumerating objects: 93, done.\u001b[K\n",
            "remote: Counting objects: 100% (93/93), done.\u001b[K\n",
            "remote: Compressing objects: 100% (74/74), done.\u001b[K\n",
            "remote: Total 93 (delta 20), reused 63 (delta 11), pack-reused 0\u001b[K\n",
            "Receiving objects: 100% (93/93), 1.97 MiB | 5.55 MiB/s, done.\n",
            "Resolving deltas: 100% (20/20), done.\n",
            "/content/myclone/helpers\n",
            "Already up to date.\n"
          ]
        }
      ],
      "source": [
        "from google.colab import drive\n",
        "drive.mount('/content/drive')\n",
        "\n",
        "!rm -rf myclone\n",
        "!git clone --depth 1 \"https://github.com/SteveLamont/Suave_on_Colab.git\" myclone\n",
        "%cd /content/myclone/helpers\n",
        "!git pull"
      ]
    },
    {
      "cell_type": "code",
      "execution_count": 3,
      "id": "a8411807",
      "metadata": {
        "colab": {
          "base_uri": "https://localhost:8080/",
          "height": 52
        },
        "id": "a8411807",
        "outputId": "9acd3cb8-65ec-4680-b978-db495e8c2e4f",
        "papermill": {},
        "tags": []
      },
      "outputs": [
        {
          "data": {
            "application/javascript": "(function(root) {\n  function now() {\n    return new Date();\n  }\n\n  var force = true;\n  var py_version = '3.3.3'.replace('rc', '-rc.').replace('.dev', '-dev.');\n  var reloading = false;\n  var Bokeh = root.Bokeh;\n\n  if (typeof (root._bokeh_timeout) === \"undefined\" || force) {\n    root._bokeh_timeout = Date.now() + 5000;\n    root._bokeh_failed_load = false;\n  }\n\n  function run_callbacks() {\n    try {\n      root._bokeh_onload_callbacks.forEach(function(callback) {\n        if (callback != null)\n          callback();\n      });\n    } finally {\n      delete root._bokeh_onload_callbacks;\n    }\n    console.debug(\"Bokeh: all callbacks have finished\");\n  }\n\n  function load_libs(css_urls, js_urls, js_modules, js_exports, callback) {\n    if (css_urls == null) css_urls = [];\n    if (js_urls == null) js_urls = [];\n    if (js_modules == null) js_modules = [];\n    if (js_exports == null) js_exports = {};\n\n    root._bokeh_onload_callbacks.push(callback);\n\n    if (root._bokeh_is_loading > 0) {\n      console.debug(\"Bokeh: BokehJS is being loaded, scheduling callback at\", now());\n      return null;\n    }\n    if (js_urls.length === 0 && js_modules.length === 0 && Object.keys(js_exports).length === 0) {\n      run_callbacks();\n      return null;\n    }\n    if (!reloading) {\n      console.debug(\"Bokeh: BokehJS not loaded, scheduling load and callback at\", now());\n    }\n\n    function on_load() {\n      root._bokeh_is_loading--;\n      if (root._bokeh_is_loading === 0) {\n        console.debug(\"Bokeh: all BokehJS libraries/stylesheets loaded\");\n        run_callbacks()\n      }\n    }\n    window._bokeh_on_load = on_load\n\n    function on_error() {\n      console.error(\"failed to load \" + url);\n    }\n\n    var skip = [];\n    if (window.requirejs) {\n      window.requirejs.config({'packages': {}, 'paths': {'tabulator': 'https://cdn.jsdelivr.net/npm/tabulator-tables@5.5.0/dist/js/tabulator.min', 'moment': 'https://cdn.jsdelivr.net/npm/luxon/build/global/luxon.min', 'jspanel': 'https://cdn.jsdelivr.net/npm/jspanel4@4.12.0/dist/jspanel', 'jspanel-modal': 'https://cdn.jsdelivr.net/npm/jspanel4@4.12.0/dist/extensions/modal/jspanel.modal', 'jspanel-tooltip': 'https://cdn.jsdelivr.net/npm/jspanel4@4.12.0/dist/extensions/tooltip/jspanel.tooltip', 'jspanel-hint': 'https://cdn.jsdelivr.net/npm/jspanel4@4.12.0/dist/extensions/hint/jspanel.hint', 'jspanel-layout': 'https://cdn.jsdelivr.net/npm/jspanel4@4.12.0/dist/extensions/layout/jspanel.layout', 'jspanel-contextmenu': 'https://cdn.jsdelivr.net/npm/jspanel4@4.12.0/dist/extensions/contextmenu/jspanel.contextmenu', 'jspanel-dock': 'https://cdn.jsdelivr.net/npm/jspanel4@4.12.0/dist/extensions/dock/jspanel.dock', 'gridstack': 'https://cdn.jsdelivr.net/npm/gridstack@7.2.3/dist/gridstack-all', 'notyf': 'https://cdn.jsdelivr.net/npm/notyf@3/notyf.min'}, 'shim': {'jspanel': {'exports': 'jsPanel'}, 'gridstack': {'exports': 'GridStack'}}});\n      require([\"tabulator\"], function(Tabulator) {\n\twindow.Tabulator = Tabulator\n\ton_load()\n      })\n      require([\"moment\"], function(moment) {\n\twindow.moment = moment\n\ton_load()\n      })\n      require([\"jspanel\"], function(jsPanel) {\n\twindow.jsPanel = jsPanel\n\ton_load()\n      })\n      require([\"jspanel-modal\"], function() {\n\ton_load()\n      })\n      require([\"jspanel-tooltip\"], function() {\n\ton_load()\n      })\n      require([\"jspanel-hint\"], function() {\n\ton_load()\n      })\n      require([\"jspanel-layout\"], function() {\n\ton_load()\n      })\n      require([\"jspanel-contextmenu\"], function() {\n\ton_load()\n      })\n      require([\"jspanel-dock\"], function() {\n\ton_load()\n      })\n      require([\"gridstack\"], function(GridStack) {\n\twindow.GridStack = GridStack\n\ton_load()\n      })\n      require([\"notyf\"], function() {\n\ton_load()\n      })\n      root._bokeh_is_loading = css_urls.length + 11;\n    } else {\n      root._bokeh_is_loading = css_urls.length + js_urls.length + js_modules.length + Object.keys(js_exports).length;\n    }\n\n    var existing_stylesheets = []\n    var links = document.getElementsByTagName('link')\n    for (var i = 0; i < links.length; i++) {\n      var link = links[i]\n      if (link.href != null) {\n\texisting_stylesheets.push(link.href)\n      }\n    }\n    for (var i = 0; i < css_urls.length; i++) {\n      var url = css_urls[i];\n      if (existing_stylesheets.indexOf(url) !== -1) {\n\ton_load()\n\tcontinue;\n      }\n      const element = document.createElement(\"link\");\n      element.onload = on_load;\n      element.onerror = on_error;\n      element.rel = \"stylesheet\";\n      element.type = \"text/css\";\n      element.href = url;\n      console.debug(\"Bokeh: injecting link tag for BokehJS stylesheet: \", url);\n      document.body.appendChild(element);\n    }    if (((window['Tabulator'] !== undefined) && (!(window['Tabulator'] instanceof HTMLElement))) || window.requirejs) {\n      var urls = ['https://cdn.holoviz.org/panel/1.3.6/dist/bundled/datatabulator/tabulator-tables@5.5.0/dist/js/tabulator.min.js'];\n      for (var i = 0; i < urls.length; i++) {\n        skip.push(urls[i])\n      }\n    }    if (((window['moment'] !== undefined) && (!(window['moment'] instanceof HTMLElement))) || window.requirejs) {\n      var urls = ['https://cdn.holoviz.org/panel/1.3.6/dist/bundled/datatabulator/luxon/build/global/luxon.min.js'];\n      for (var i = 0; i < urls.length; i++) {\n        skip.push(urls[i])\n      }\n    }    if (((window['jsPanel'] !== undefined) && (!(window['jsPanel'] instanceof HTMLElement))) || window.requirejs) {\n      var urls = ['https://cdn.holoviz.org/panel/1.3.6/dist/bundled/floatpanel/jspanel4@4.12.0/dist/jspanel.js', 'https://cdn.holoviz.org/panel/1.3.6/dist/bundled/floatpanel/jspanel4@4.12.0/dist/extensions/modal/jspanel.modal.js', 'https://cdn.holoviz.org/panel/1.3.6/dist/bundled/floatpanel/jspanel4@4.12.0/dist/extensions/tooltip/jspanel.tooltip.js', 'https://cdn.holoviz.org/panel/1.3.6/dist/bundled/floatpanel/jspanel4@4.12.0/dist/extensions/hint/jspanel.hint.js', 'https://cdn.holoviz.org/panel/1.3.6/dist/bundled/floatpanel/jspanel4@4.12.0/dist/extensions/layout/jspanel.layout.js', 'https://cdn.holoviz.org/panel/1.3.6/dist/bundled/floatpanel/jspanel4@4.12.0/dist/extensions/contextmenu/jspanel.contextmenu.js', 'https://cdn.holoviz.org/panel/1.3.6/dist/bundled/floatpanel/jspanel4@4.12.0/dist/extensions/dock/jspanel.dock.js'];\n      for (var i = 0; i < urls.length; i++) {\n        skip.push(urls[i])\n      }\n    }    if (((window['GridStack'] !== undefined) && (!(window['GridStack'] instanceof HTMLElement))) || window.requirejs) {\n      var urls = ['https://cdn.holoviz.org/panel/1.3.6/dist/bundled/gridstack/gridstack@7.2.3/dist/gridstack-all.js'];\n      for (var i = 0; i < urls.length; i++) {\n        skip.push(urls[i])\n      }\n    }    if (((window['Notyf'] !== undefined) && (!(window['Notyf'] instanceof HTMLElement))) || window.requirejs) {\n      var urls = ['https://cdn.holoviz.org/panel/1.3.6/dist/bundled/notificationarea/notyf@3/notyf.min.js'];\n      for (var i = 0; i < urls.length; i++) {\n        skip.push(urls[i])\n      }\n    }    var existing_scripts = []\n    var scripts = document.getElementsByTagName('script')\n    for (var i = 0; i < scripts.length; i++) {\n      var script = scripts[i]\n      if (script.src != null) {\n\texisting_scripts.push(script.src)\n      }\n    }\n    for (var i = 0; i < js_urls.length; i++) {\n      var url = js_urls[i];\n      if (skip.indexOf(url) !== -1 || existing_scripts.indexOf(url) !== -1) {\n\tif (!window.requirejs) {\n\t  on_load();\n\t}\n\tcontinue;\n      }\n      var element = document.createElement('script');\n      element.onload = on_load;\n      element.onerror = on_error;\n      element.async = false;\n      element.src = url;\n      console.debug(\"Bokeh: injecting script tag for BokehJS library: \", url);\n      document.head.appendChild(element);\n    }\n    for (var i = 0; i < js_modules.length; i++) {\n      var url = js_modules[i];\n      if (skip.indexOf(url) !== -1 || existing_scripts.indexOf(url) !== -1) {\n\tif (!window.requirejs) {\n\t  on_load();\n\t}\n\tcontinue;\n      }\n      var element = document.createElement('script');\n      element.onload = on_load;\n      element.onerror = on_error;\n      element.async = false;\n      element.src = url;\n      element.type = \"module\";\n      console.debug(\"Bokeh: injecting script tag for BokehJS library: \", url);\n      document.head.appendChild(element);\n    }\n    for (const name in js_exports) {\n      var url = js_exports[name];\n      if (skip.indexOf(url) >= 0 || root[name] != null) {\n\tif (!window.requirejs) {\n\t  on_load();\n\t}\n\tcontinue;\n      }\n      var element = document.createElement('script');\n      element.onerror = on_error;\n      element.async = false;\n      element.type = \"module\";\n      console.debug(\"Bokeh: injecting script tag for BokehJS library: \", url);\n      element.textContent = `\n      import ${name} from \"${url}\"\n      window.${name} = ${name}\n      window._bokeh_on_load()\n      `\n      document.head.appendChild(element);\n    }\n    if (!js_urls.length && !js_modules.length) {\n      on_load()\n    }\n  };\n\n  function inject_raw_css(css) {\n    const element = document.createElement(\"style\");\n    element.appendChild(document.createTextNode(css));\n    document.body.appendChild(element);\n  }\n\n  var js_urls = [\"https://cdn.holoviz.org/panel/1.3.6/dist/bundled/datatabulator/tabulator-tables@5.5.0/dist/js/tabulator.min.js\", \"https://cdn.holoviz.org/panel/1.3.6/dist/bundled/datatabulator/luxon/build/global/luxon.min.js\", \"https://cdn.bokeh.org/bokeh/release/bokeh-3.3.3.min.js\", \"https://cdn.bokeh.org/bokeh/release/bokeh-gl-3.3.3.min.js\", \"https://cdn.bokeh.org/bokeh/release/bokeh-widgets-3.3.3.min.js\", \"https://cdn.bokeh.org/bokeh/release/bokeh-tables-3.3.3.min.js\", \"https://cdn.holoviz.org/panel/1.3.6/dist/panel.min.js\"];\n  var js_modules = [];\n  var js_exports = {};\n  var css_urls = [\"https://cdn.holoviz.org/panel/1.3.6/dist/bundled/datatabulator/tabulator-tables@5.5.0/dist/css/tabulator_simple.min.css\"];\n  var inline_js = [    function(Bokeh) {\n      Bokeh.set_log_level(\"info\");\n    },\nfunction(Bokeh) {} // ensure no trailing comma for IE\n  ];\n\n  function run_inline_js() {\n    if ((root.Bokeh !== undefined) || (force === true)) {\n      for (var i = 0; i < inline_js.length; i++) {\n\ttry {\n          inline_js[i].call(root, root.Bokeh);\n\t} catch(e) {\n\t  if (!reloading) {\n\t    throw e;\n\t  }\n\t}\n      }\n      // Cache old bokeh versions\n      if (Bokeh != undefined && !reloading) {\n\tvar NewBokeh = root.Bokeh;\n\tif (Bokeh.versions === undefined) {\n\t  Bokeh.versions = new Map();\n\t}\n\tif (NewBokeh.version !== Bokeh.version) {\n\t  Bokeh.versions.set(NewBokeh.version, NewBokeh)\n\t}\n\troot.Bokeh = Bokeh;\n      }} else if (Date.now() < root._bokeh_timeout) {\n      setTimeout(run_inline_js, 100);\n    } else if (!root._bokeh_failed_load) {\n      console.log(\"Bokeh: BokehJS failed to load within specified timeout.\");\n      root._bokeh_failed_load = true;\n    }\n    root._bokeh_is_initializing = false\n  }\n\n  function load_or_wait() {\n    // Implement a backoff loop that tries to ensure we do not load multiple\n    // versions of Bokeh and its dependencies at the same time.\n    // In recent versions we use the root._bokeh_is_initializing flag\n    // to determine whether there is an ongoing attempt to initialize\n    // bokeh, however for backward compatibility we also try to ensure\n    // that we do not start loading a newer (Panel>=1.0 and Bokeh>3) version\n    // before older versions are fully initialized.\n    if (root._bokeh_is_initializing && Date.now() > root._bokeh_timeout) {\n      root._bokeh_is_initializing = false;\n      root._bokeh_onload_callbacks = undefined;\n      console.log(\"Bokeh: BokehJS was loaded multiple times but one version failed to initialize.\");\n      load_or_wait();\n    } else if (root._bokeh_is_initializing || (typeof root._bokeh_is_initializing === \"undefined\" && root._bokeh_onload_callbacks !== undefined)) {\n      setTimeout(load_or_wait, 100);\n    } else {\n      root._bokeh_is_initializing = true\n      root._bokeh_onload_callbacks = []\n      var bokeh_loaded = Bokeh != null && (Bokeh.version === py_version || (Bokeh.versions !== undefined && Bokeh.versions.has(py_version)));\n      if (!reloading && !bokeh_loaded) {\n\troot.Bokeh = undefined;\n      }\n      load_libs(css_urls, js_urls, js_modules, js_exports, function() {\n\tconsole.debug(\"Bokeh: BokehJS plotting callback run at\", now());\n\trun_inline_js();\n      });\n    }\n  }\n  // Give older versions of the autoload script a head-start to ensure\n  // they initialize before we start loading newer version.\n  setTimeout(load_or_wait, 100)\n}(window));",
            "application/vnd.holoviews_load.v0+json": ""
          },
          "metadata": {},
          "output_type": "display_data"
        },
        {
          "data": {
            "application/javascript": "\nif ((window.PyViz === undefined) || (window.PyViz instanceof HTMLElement)) {\n  window.PyViz = {comms: {}, comm_status:{}, kernels:{}, receivers: {}, plot_index: []}\n}\n\n\n    function JupyterCommManager() {\n    }\n\n    JupyterCommManager.prototype.register_target = function(plot_id, comm_id, msg_handler) {\n      if (window.comm_manager || ((window.Jupyter !== undefined) && (Jupyter.notebook.kernel != null))) {\n        var comm_manager = window.comm_manager || Jupyter.notebook.kernel.comm_manager;\n        comm_manager.register_target(comm_id, function(comm) {\n          comm.on_msg(msg_handler);\n        });\n      } else if ((plot_id in window.PyViz.kernels) && (window.PyViz.kernels[plot_id])) {\n        window.PyViz.kernels[plot_id].registerCommTarget(comm_id, function(comm) {\n          comm.onMsg = msg_handler;\n        });\n      } else if (typeof google != 'undefined' && google.colab.kernel != null) {\n        google.colab.kernel.comms.registerTarget(comm_id, (comm) => {\n          var messages = comm.messages[Symbol.asyncIterator]();\n          function processIteratorResult(result) {\n            var message = result.value;\n            console.log(message)\n            var content = {data: message.data, comm_id};\n            var buffers = []\n            for (var buffer of message.buffers || []) {\n              buffers.push(new DataView(buffer))\n            }\n            var metadata = message.metadata || {};\n            var msg = {content, buffers, metadata}\n            msg_handler(msg);\n            return messages.next().then(processIteratorResult);\n          }\n          return messages.next().then(processIteratorResult);\n        })\n      }\n    }\n\n    JupyterCommManager.prototype.get_client_comm = function(plot_id, comm_id, msg_handler) {\n      if (comm_id in window.PyViz.comms) {\n        return window.PyViz.comms[comm_id];\n      } else if (window.comm_manager || ((window.Jupyter !== undefined) && (Jupyter.notebook.kernel != null))) {\n        var comm_manager = window.comm_manager || Jupyter.notebook.kernel.comm_manager;\n        var comm = comm_manager.new_comm(comm_id, {}, {}, {}, comm_id);\n        if (msg_handler) {\n          comm.on_msg(msg_handler);\n        }\n      } else if ((plot_id in window.PyViz.kernels) && (window.PyViz.kernels[plot_id])) {\n        var comm = window.PyViz.kernels[plot_id].connectToComm(comm_id);\n        comm.open();\n        if (msg_handler) {\n          comm.onMsg = msg_handler;\n        }\n      } else if (typeof google != 'undefined' && google.colab.kernel != null) {\n        var comm_promise = google.colab.kernel.comms.open(comm_id)\n        comm_promise.then((comm) => {\n          window.PyViz.comms[comm_id] = comm;\n          if (msg_handler) {\n            var messages = comm.messages[Symbol.asyncIterator]();\n            function processIteratorResult(result) {\n              var message = result.value;\n              var content = {data: message.data};\n              var metadata = message.metadata || {comm_id};\n              var msg = {content, metadata}\n              msg_handler(msg);\n              return messages.next().then(processIteratorResult);\n            }\n            return messages.next().then(processIteratorResult);\n          }\n        }) \n        var sendClosure = (data, metadata, buffers, disposeOnDone) => {\n          return comm_promise.then((comm) => {\n            comm.send(data, metadata, buffers, disposeOnDone);\n          });\n        };\n        var comm = {\n          send: sendClosure\n        };\n      }\n      window.PyViz.comms[comm_id] = comm;\n      return comm;\n    }\n    window.PyViz.comm_manager = new JupyterCommManager();\n    \n\n\nvar JS_MIME_TYPE = 'application/javascript';\nvar HTML_MIME_TYPE = 'text/html';\nvar EXEC_MIME_TYPE = 'application/vnd.holoviews_exec.v0+json';\nvar CLASS_NAME = 'output';\n\n/**\n * Render data to the DOM node\n */\nfunction render(props, node) {\n  var div = document.createElement(\"div\");\n  var script = document.createElement(\"script\");\n  node.appendChild(div);\n  node.appendChild(script);\n}\n\n/**\n * Handle when a new output is added\n */\nfunction handle_add_output(event, handle) {\n  var output_area = handle.output_area;\n  var output = handle.output;\n  if ((output.data == undefined) || (!output.data.hasOwnProperty(EXEC_MIME_TYPE))) {\n    return\n  }\n  var id = output.metadata[EXEC_MIME_TYPE][\"id\"];\n  var toinsert = output_area.element.find(\".\" + CLASS_NAME.split(' ')[0]);\n  if (id !== undefined) {\n    var nchildren = toinsert.length;\n    var html_node = toinsert[nchildren-1].children[0];\n    html_node.innerHTML = output.data[HTML_MIME_TYPE];\n    var scripts = [];\n    var nodelist = html_node.querySelectorAll(\"script\");\n    for (var i in nodelist) {\n      if (nodelist.hasOwnProperty(i)) {\n        scripts.push(nodelist[i])\n      }\n    }\n\n    scripts.forEach( function (oldScript) {\n      var newScript = document.createElement(\"script\");\n      var attrs = [];\n      var nodemap = oldScript.attributes;\n      for (var j in nodemap) {\n        if (nodemap.hasOwnProperty(j)) {\n          attrs.push(nodemap[j])\n        }\n      }\n      attrs.forEach(function(attr) { newScript.setAttribute(attr.name, attr.value) });\n      newScript.appendChild(document.createTextNode(oldScript.innerHTML));\n      oldScript.parentNode.replaceChild(newScript, oldScript);\n    });\n    if (JS_MIME_TYPE in output.data) {\n      toinsert[nchildren-1].children[1].textContent = output.data[JS_MIME_TYPE];\n    }\n    output_area._hv_plot_id = id;\n    if ((window.Bokeh !== undefined) && (id in Bokeh.index)) {\n      window.PyViz.plot_index[id] = Bokeh.index[id];\n    } else {\n      window.PyViz.plot_index[id] = null;\n    }\n  } else if (output.metadata[EXEC_MIME_TYPE][\"server_id\"] !== undefined) {\n    var bk_div = document.createElement(\"div\");\n    bk_div.innerHTML = output.data[HTML_MIME_TYPE];\n    var script_attrs = bk_div.children[0].attributes;\n    for (var i = 0; i < script_attrs.length; i++) {\n      toinsert[toinsert.length - 1].childNodes[1].setAttribute(script_attrs[i].name, script_attrs[i].value);\n    }\n    // store reference to server id on output_area\n    output_area._bokeh_server_id = output.metadata[EXEC_MIME_TYPE][\"server_id\"];\n  }\n}\n\n/**\n * Handle when an output is cleared or removed\n */\nfunction handle_clear_output(event, handle) {\n  var id = handle.cell.output_area._hv_plot_id;\n  var server_id = handle.cell.output_area._bokeh_server_id;\n  if (((id === undefined) || !(id in PyViz.plot_index)) && (server_id !== undefined)) { return; }\n  var comm = window.PyViz.comm_manager.get_client_comm(\"hv-extension-comm\", \"hv-extension-comm\", function () {});\n  if (server_id !== null) {\n    comm.send({event_type: 'server_delete', 'id': server_id});\n    return;\n  } else if (comm !== null) {\n    comm.send({event_type: 'delete', 'id': id});\n  }\n  delete PyViz.plot_index[id];\n  if ((window.Bokeh !== undefined) & (id in window.Bokeh.index)) {\n    var doc = window.Bokeh.index[id].model.document\n    doc.clear();\n    const i = window.Bokeh.documents.indexOf(doc);\n    if (i > -1) {\n      window.Bokeh.documents.splice(i, 1);\n    }\n  }\n}\n\n/**\n * Handle kernel restart event\n */\nfunction handle_kernel_cleanup(event, handle) {\n  delete PyViz.comms[\"hv-extension-comm\"];\n  window.PyViz.plot_index = {}\n}\n\n/**\n * Handle update_display_data messages\n */\nfunction handle_update_output(event, handle) {\n  handle_clear_output(event, {cell: {output_area: handle.output_area}})\n  handle_add_output(event, handle)\n}\n\nfunction register_renderer(events, OutputArea) {\n  function append_mime(data, metadata, element) {\n    // create a DOM node to render to\n    var toinsert = this.create_output_subarea(\n    metadata,\n    CLASS_NAME,\n    EXEC_MIME_TYPE\n    );\n    this.keyboard_manager.register_events(toinsert);\n    // Render to node\n    var props = {data: data, metadata: metadata[EXEC_MIME_TYPE]};\n    render(props, toinsert[0]);\n    element.append(toinsert);\n    return toinsert\n  }\n\n  events.on('output_added.OutputArea', handle_add_output);\n  events.on('output_updated.OutputArea', handle_update_output);\n  events.on('clear_output.CodeCell', handle_clear_output);\n  events.on('delete.Cell', handle_clear_output);\n  events.on('kernel_ready.Kernel', handle_kernel_cleanup);\n\n  OutputArea.prototype.register_mime_type(EXEC_MIME_TYPE, append_mime, {\n    safe: true,\n    index: 0\n  });\n}\n\nif (window.Jupyter !== undefined) {\n  try {\n    var events = require('base/js/events');\n    var OutputArea = require('notebook/js/outputarea').OutputArea;\n    if (OutputArea.prototype.mime_types().indexOf(EXEC_MIME_TYPE) == -1) {\n      register_renderer(events, OutputArea);\n    }\n  } catch(err) {\n  }\n}\n",
            "application/vnd.holoviews_load.v0+json": ""
          },
          "metadata": {},
          "output_type": "display_data"
        },
        {
          "data": {
            "text/html": [
              "<style>*[data-root-id],\n",
              "*[data-root-id] > * {\n",
              "  box-sizing: border-box;\n",
              "  font-family: var(--jp-ui-font-family);\n",
              "  font-size: var(--jp-ui-font-size1);\n",
              "  color: var(--vscode-editor-foreground, var(--jp-ui-font-color1));\n",
              "}\n",
              "\n",
              "/* Override VSCode background color */\n",
              ".cell-output-ipywidget-background:has(\n",
              "    > .cell-output-ipywidget-background > .lm-Widget > *[data-root-id]\n",
              "  ),\n",
              ".cell-output-ipywidget-background:has(> .lm-Widget > *[data-root-id]) {\n",
              "  background-color: transparent !important;\n",
              "}\n",
              "</style>"
            ]
          },
          "metadata": {},
          "output_type": "display_data"
        },
        {
          "data": {
            "application/vnd.holoviews_exec.v0+json": "",
            "text/html": [
              "<div id='9ec6d0cd-7231-4e46-89f0-b72bde76f87d'>\n",
              "  <div id=\"ed5c3f02-f9eb-431d-9d21-4257d7b70fac\" data-root-id=\"9ec6d0cd-7231-4e46-89f0-b72bde76f87d\" style=\"display: contents;\"></div>\n",
              "</div>\n",
              "<script type=\"application/javascript\">(function(root) {\n",
              "  var docs_json = {\"9934b9a7-6765-4d22-8d5a-0db591cdf25f\":{\"version\":\"3.3.3\",\"title\":\"Bokeh Application\",\"roots\":[{\"type\":\"object\",\"name\":\"panel.models.browser.BrowserInfo\",\"id\":\"9ec6d0cd-7231-4e46-89f0-b72bde76f87d\"},{\"type\":\"object\",\"name\":\"panel.models.comm_manager.CommManager\",\"id\":\"34598047-4e32-463e-a2a2-2ef68275250e\",\"attributes\":{\"plot_id\":\"9ec6d0cd-7231-4e46-89f0-b72bde76f87d\",\"comm_id\":\"627def38e4f1498694796e50be82ef45\",\"client_comm_id\":\"2d72cd57bceb4f83b29dd67799166b6a\"}}],\"defs\":[{\"type\":\"model\",\"name\":\"ReactiveHTML1\"},{\"type\":\"model\",\"name\":\"FlexBox1\",\"properties\":[{\"name\":\"align_content\",\"kind\":\"Any\",\"default\":\"flex-start\"},{\"name\":\"align_items\",\"kind\":\"Any\",\"default\":\"flex-start\"},{\"name\":\"flex_direction\",\"kind\":\"Any\",\"default\":\"row\"},{\"name\":\"flex_wrap\",\"kind\":\"Any\",\"default\":\"wrap\"},{\"name\":\"justify_content\",\"kind\":\"Any\",\"default\":\"flex-start\"}]},{\"type\":\"model\",\"name\":\"FloatPanel1\",\"properties\":[{\"name\":\"config\",\"kind\":\"Any\",\"default\":{\"type\":\"map\"}},{\"name\":\"contained\",\"kind\":\"Any\",\"default\":true},{\"name\":\"position\",\"kind\":\"Any\",\"default\":\"right-top\"},{\"name\":\"offsetx\",\"kind\":\"Any\",\"default\":null},{\"name\":\"offsety\",\"kind\":\"Any\",\"default\":null},{\"name\":\"theme\",\"kind\":\"Any\",\"default\":\"primary\"},{\"name\":\"status\",\"kind\":\"Any\",\"default\":\"normalized\"}]},{\"type\":\"model\",\"name\":\"GridStack1\",\"properties\":[{\"name\":\"mode\",\"kind\":\"Any\",\"default\":\"warn\"},{\"name\":\"ncols\",\"kind\":\"Any\",\"default\":null},{\"name\":\"nrows\",\"kind\":\"Any\",\"default\":null},{\"name\":\"allow_resize\",\"kind\":\"Any\",\"default\":true},{\"name\":\"allow_drag\",\"kind\":\"Any\",\"default\":true},{\"name\":\"state\",\"kind\":\"Any\",\"default\":[]}]},{\"type\":\"model\",\"name\":\"drag1\",\"properties\":[{\"name\":\"slider_width\",\"kind\":\"Any\",\"default\":5},{\"name\":\"slider_color\",\"kind\":\"Any\",\"default\":\"black\"},{\"name\":\"value\",\"kind\":\"Any\",\"default\":50}]},{\"type\":\"model\",\"name\":\"click1\",\"properties\":[{\"name\":\"terminal_output\",\"kind\":\"Any\",\"default\":\"\"},{\"name\":\"debug_name\",\"kind\":\"Any\",\"default\":\"\"},{\"name\":\"clears\",\"kind\":\"Any\",\"default\":0}]},{\"type\":\"model\",\"name\":\"copy_to_clipboard1\",\"properties\":[{\"name\":\"fill\",\"kind\":\"Any\",\"default\":\"none\"},{\"name\":\"value\",\"kind\":\"Any\",\"default\":null}]},{\"type\":\"model\",\"name\":\"FastWrapper1\",\"properties\":[{\"name\":\"object\",\"kind\":\"Any\",\"default\":null},{\"name\":\"style\",\"kind\":\"Any\",\"default\":null}]},{\"type\":\"model\",\"name\":\"NotificationAreaBase1\",\"properties\":[{\"name\":\"js_events\",\"kind\":\"Any\",\"default\":{\"type\":\"map\"}},{\"name\":\"position\",\"kind\":\"Any\",\"default\":\"bottom-right\"},{\"name\":\"_clear\",\"kind\":\"Any\",\"default\":0}]},{\"type\":\"model\",\"name\":\"NotificationArea1\",\"properties\":[{\"name\":\"js_events\",\"kind\":\"Any\",\"default\":{\"type\":\"map\"}},{\"name\":\"notifications\",\"kind\":\"Any\",\"default\":[]},{\"name\":\"position\",\"kind\":\"Any\",\"default\":\"bottom-right\"},{\"name\":\"_clear\",\"kind\":\"Any\",\"default\":0},{\"name\":\"types\",\"kind\":\"Any\",\"default\":[{\"type\":\"map\",\"entries\":[[\"type\",\"warning\"],[\"background\",\"#ffc107\"],[\"icon\",{\"type\":\"map\",\"entries\":[[\"className\",\"fas fa-exclamation-triangle\"],[\"tagName\",\"i\"],[\"color\",\"white\"]]}]]},{\"type\":\"map\",\"entries\":[[\"type\",\"info\"],[\"background\",\"#007bff\"],[\"icon\",{\"type\":\"map\",\"entries\":[[\"className\",\"fas fa-info-circle\"],[\"tagName\",\"i\"],[\"color\",\"white\"]]}]]}]}]},{\"type\":\"model\",\"name\":\"Notification\",\"properties\":[{\"name\":\"background\",\"kind\":\"Any\",\"default\":null},{\"name\":\"duration\",\"kind\":\"Any\",\"default\":3000},{\"name\":\"icon\",\"kind\":\"Any\",\"default\":null},{\"name\":\"message\",\"kind\":\"Any\",\"default\":\"\"},{\"name\":\"notification_type\",\"kind\":\"Any\",\"default\":null},{\"name\":\"_destroyed\",\"kind\":\"Any\",\"default\":false}]},{\"type\":\"model\",\"name\":\"TemplateActions1\",\"properties\":[{\"name\":\"open_modal\",\"kind\":\"Any\",\"default\":0},{\"name\":\"close_modal\",\"kind\":\"Any\",\"default\":0}]},{\"type\":\"model\",\"name\":\"BootstrapTemplateActions1\",\"properties\":[{\"name\":\"open_modal\",\"kind\":\"Any\",\"default\":0},{\"name\":\"close_modal\",\"kind\":\"Any\",\"default\":0}]},{\"type\":\"model\",\"name\":\"MaterialTemplateActions1\",\"properties\":[{\"name\":\"open_modal\",\"kind\":\"Any\",\"default\":0},{\"name\":\"close_modal\",\"kind\":\"Any\",\"default\":0}]}]}};\n",
              "  var render_items = [{\"docid\":\"9934b9a7-6765-4d22-8d5a-0db591cdf25f\",\"roots\":{\"9ec6d0cd-7231-4e46-89f0-b72bde76f87d\":\"ed5c3f02-f9eb-431d-9d21-4257d7b70fac\"},\"root_ids\":[\"9ec6d0cd-7231-4e46-89f0-b72bde76f87d\"]}];\n",
              "  var docs = Object.values(docs_json)\n",
              "  if (!docs) {\n",
              "    return\n",
              "  }\n",
              "  const py_version = docs[0].version.replace('rc', '-rc.').replace('.dev', '-dev.')\n",
              "  function embed_document(root) {\n",
              "    var Bokeh = get_bokeh(root)\n",
              "    Bokeh.embed.embed_items_notebook(docs_json, render_items);\n",
              "    for (const render_item of render_items) {\n",
              "      for (const root_id of render_item.root_ids) {\n",
              "\tconst id_el = document.getElementById(root_id)\n",
              "\tif (id_el.children.length && (id_el.children[0].className === 'bk-root')) {\n",
              "\t  const root_el = id_el.children[0]\n",
              "\t  root_el.id = root_el.id + '-rendered'\n",
              "\t}\n",
              "      }\n",
              "    }\n",
              "  }\n",
              "  function get_bokeh(root) {\n",
              "    if (root.Bokeh === undefined) {\n",
              "      return null\n",
              "    } else if (root.Bokeh.version !== py_version) {\n",
              "      if (root.Bokeh.versions === undefined || !root.Bokeh.versions.has(py_version)) {\n",
              "\treturn null\n",
              "      }\n",
              "      return root.Bokeh.versions.get(py_version);\n",
              "    } else if (root.Bokeh.version === py_version) {\n",
              "      return root.Bokeh\n",
              "    }\n",
              "    return null\n",
              "  }\n",
              "  function is_loaded(root) {\n",
              "    var Bokeh = get_bokeh(root)\n",
              "    return (Bokeh != null && Bokeh.Panel !== undefined && ( root['Tabulator'] !== undefined) && ( root['Tabulator'] !== undefined))\n",
              "  }\n",
              "  if (is_loaded(root)) {\n",
              "    embed_document(root);\n",
              "  } else {\n",
              "    var attempts = 0;\n",
              "    var timer = setInterval(function(root) {\n",
              "      if (is_loaded(root)) {\n",
              "        clearInterval(timer);\n",
              "        embed_document(root);\n",
              "      } else if (document.readyState == \"complete\") {\n",
              "        attempts++;\n",
              "        if (attempts > 200) {\n",
              "          clearInterval(timer);\n",
              "\t  var Bokeh = get_bokeh(root)\n",
              "\t  if (Bokeh == null || Bokeh.Panel == null) {\n",
              "            console.warn(\"Panel: ERROR: Unable to run Panel code because Bokeh or Panel library is missing\");\n",
              "\t  } else {\n",
              "\t    console.warn(\"Panel: WARNING: Attempting to render but not all required libraries could be resolved.\")\n",
              "\t    embed_document(root)\n",
              "\t  }\n",
              "        }\n",
              "      }\n",
              "    }, 25, root)\n",
              "  }\n",
              "})(window);</script>"
            ]
          },
          "metadata": {
            "application/vnd.holoviews_exec.v0+json": {
              "id": "9ec6d0cd-7231-4e46-89f0-b72bde76f87d"
            }
          },
          "output_type": "display_data"
        },
        {
          "name": "stderr",
          "output_type": "stream",
          "text": [
            "<ipython-input-3-d066b3749be1>:38: DeprecationWarning: `import pandas_profiling` is going to be deprecated by April 1st. Please use `import ydata_profiling` instead.\n",
            "  from pandas_profiling import ProfileReport\n"
          ]
        }
      ],
      "source": [
        "# common imports\n",
        "from __future__ import print_function\n",
        "from ipywidgets import interact, interactive, fixed, interact_manual\n",
        "import ipywidgets as widgets\n",
        "from IPython.display import Markdown, display\n",
        "\n",
        "import pandas as pd\n",
        "import json\n",
        "pd.set_option('display.max_colwidth', 0)\n",
        "\n",
        "import numpy as np\n",
        "import panel as pn\n",
        "\n",
        "pn.extension(\"tabulator\")\n",
        "def printmd(string):\n",
        "    display(Markdown(string))\n",
        "\n",
        "absolutePath = \"/content/drive/MyDrive/suave/\"\n",
        "\n",
        "# local imports\n",
        "# import sys\n",
        "# sys.path.insert(1, '../../helpers')\n",
        "import panel_libs as panellibs\n",
        "import suave_integration as suaveint\n",
        "\n",
        "# specific imports\n",
        "import requests\n",
        "import re\n",
        "import copy\n",
        "import urllib3\n",
        "from bs4 import BeautifulSoup\n",
        "import networkx as nx\n",
        "import matplotlib.pyplot as plt\n",
        "import ipywidgets as widgets\n",
        "from IPython.display import display, clear_output\n",
        "from ipywidgets import widgets\n",
        "import json\n",
        "from pandas_profiling import ProfileReport\n",
        "from pyvis.network import Network\n",
        "from IPython.display import display, HTML"
      ]
    },
    {
      "cell_type": "markdown",
      "id": "16fd933b",
      "metadata": {
        "id": "16fd933b",
        "papermill": {},
        "tags": []
      },
      "source": [
        "## Collect Data"
      ]
    },
    {
      "cell_type": "code",
      "execution_count": 4,
      "id": "c222c5ec",
      "metadata": {
        "colab": {
          "base_uri": "https://localhost:8080/",
          "height": 246
        },
        "id": "c222c5ec",
        "outputId": "2dc74a6c-00bc-47d5-a987-06b675e5cdaf",
        "papermill": {},
        "tags": []
      },
      "outputs": [
        {
          "ename": "IndexError",
          "evalue": "list index out of range",
          "output_type": "error",
          "traceback": [
            "\u001b[0;31m---------------------------------------------------------------------------\u001b[0m",
            "\u001b[0;31mIndexError\u001b[0m                                Traceback (most recent call last)",
            "\u001b[0;32m<ipython-input-4-0e990e514320>\u001b[0m in \u001b[0;36m<cell line: 8>\u001b[0;34m()\u001b[0m\n\u001b[1;32m      6\u001b[0m \u001b[0mrequest\u001b[0m \u001b[0;34m=\u001b[0m \u001b[0mrequests\u001b[0m\u001b[0;34m.\u001b[0m\u001b[0mget\u001b[0m\u001b[0;34m(\u001b[0m\u001b[0mjson_url\u001b[0m\u001b[0;34m)\u001b[0m\u001b[0;34m\u001b[0m\u001b[0;34m\u001b[0m\u001b[0m\n\u001b[1;32m      7\u001b[0m \u001b[0mjson_file\u001b[0m \u001b[0;34m=\u001b[0m \u001b[0mjson\u001b[0m\u001b[0;34m.\u001b[0m\u001b[0mloads\u001b[0m\u001b[0;34m(\u001b[0m\u001b[0mrequest\u001b[0m\u001b[0;34m.\u001b[0m\u001b[0mtext\u001b[0m\u001b[0;34m)\u001b[0m\u001b[0;34m\u001b[0m\u001b[0;34m\u001b[0m\u001b[0m\n\u001b[0;32m----> 8\u001b[0;31m \u001b[0mnetivs_url\u001b[0m \u001b[0;34m=\u001b[0m \u001b[0mjson_file\u001b[0m\u001b[0;34m[\u001b[0m\u001b[0;34m'netvis'\u001b[0m\u001b[0;34m]\u001b[0m\u001b[0;34m[\u001b[0m\u001b[0;36m0\u001b[0m\u001b[0;34m]\u001b[0m\u001b[0;34m[\u001b[0m\u001b[0;34m'url'\u001b[0m\u001b[0;34m]\u001b[0m\u001b[0;34m\u001b[0m\u001b[0;34m\u001b[0m\u001b[0m\n\u001b[0m\u001b[1;32m      9\u001b[0m \u001b[0;34m\u001b[0m\u001b[0m\n\u001b[1;32m     10\u001b[0m \u001b[0mrequest_2\u001b[0m \u001b[0;34m=\u001b[0m \u001b[0mrequests\u001b[0m\u001b[0;34m.\u001b[0m\u001b[0mget\u001b[0m\u001b[0;34m(\u001b[0m\u001b[0mnetivs_url\u001b[0m\u001b[0;34m)\u001b[0m\u001b[0;34m\u001b[0m\u001b[0;34m\u001b[0m\u001b[0m\n",
            "\u001b[0;31mIndexError\u001b[0m: list index out of range"
          ]
        }
      ],
      "source": [
        "to_split = survey_url.split(\"file=\")[1].split(\".csv\")[0]\n",
        "first = to_split.split(\"_\")[0]\n",
        "second = \"_\".join(to_split.split(\"_\")[1:])\n",
        "\n",
        "json_url = f\"https://suave-net.sdsc.edu/getSurveyDzc?user={first}&file={second}\"\n",
        "request = requests.get(json_url)\n",
        "json_file = json.loads(request.text)\n",
        "netivs_url = json_file['netvis'][0]['url']\n",
        "\n",
        "request_2 = requests.get(netivs_url)\n",
        "json_data = json.loads(request_2.text)"
      ]
    },
    {
      "cell_type": "code",
      "execution_count": 11,
      "id": "378e4675",
      "metadata": {
        "colab": {
          "base_uri": "https://localhost:8080/",
          "height": 513
        },
        "id": "378e4675",
        "outputId": "375d49cc-e29e-4c8c-bc77-db92472c1b2a",
        "papermill": {},
        "tags": []
      },
      "outputs": [
        {
          "ename": "KeyError",
          "evalue": "'Name'",
          "output_type": "error",
          "traceback": [
            "\u001b[0;31m---------------------------------------------------------------------------\u001b[0m",
            "\u001b[0;31mKeyError\u001b[0m                                  Traceback (most recent call last)",
            "\u001b[0;32m/usr/local/lib/python3.10/dist-packages/pandas/core/indexes/base.py\u001b[0m in \u001b[0;36mget_loc\u001b[0;34m(self, key, method, tolerance)\u001b[0m\n\u001b[1;32m   3801\u001b[0m             \u001b[0;32mtry\u001b[0m\u001b[0;34m:\u001b[0m\u001b[0;34m\u001b[0m\u001b[0;34m\u001b[0m\u001b[0m\n\u001b[0;32m-> 3802\u001b[0;31m                 \u001b[0;32mreturn\u001b[0m \u001b[0mself\u001b[0m\u001b[0;34m.\u001b[0m\u001b[0m_engine\u001b[0m\u001b[0;34m.\u001b[0m\u001b[0mget_loc\u001b[0m\u001b[0;34m(\u001b[0m\u001b[0mcasted_key\u001b[0m\u001b[0;34m)\u001b[0m\u001b[0;34m\u001b[0m\u001b[0;34m\u001b[0m\u001b[0m\n\u001b[0m\u001b[1;32m   3803\u001b[0m             \u001b[0;32mexcept\u001b[0m \u001b[0mKeyError\u001b[0m \u001b[0;32mas\u001b[0m \u001b[0merr\u001b[0m\u001b[0;34m:\u001b[0m\u001b[0;34m\u001b[0m\u001b[0;34m\u001b[0m\u001b[0m\n",
            "\u001b[0;32m/usr/local/lib/python3.10/dist-packages/pandas/_libs/index.pyx\u001b[0m in \u001b[0;36mpandas._libs.index.IndexEngine.get_loc\u001b[0;34m()\u001b[0m\n",
            "\u001b[0;32m/usr/local/lib/python3.10/dist-packages/pandas/_libs/index.pyx\u001b[0m in \u001b[0;36mpandas._libs.index.IndexEngine.get_loc\u001b[0;34m()\u001b[0m\n",
            "\u001b[0;32mpandas/_libs/hashtable_class_helper.pxi\u001b[0m in \u001b[0;36mpandas._libs.hashtable.PyObjectHashTable.get_item\u001b[0;34m()\u001b[0m\n",
            "\u001b[0;32mpandas/_libs/hashtable_class_helper.pxi\u001b[0m in \u001b[0;36mpandas._libs.hashtable.PyObjectHashTable.get_item\u001b[0;34m()\u001b[0m\n",
            "\u001b[0;31mKeyError\u001b[0m: 'Name'",
            "\nThe above exception was the direct cause of the following exception:\n",
            "\u001b[0;31mKeyError\u001b[0m                                  Traceback (most recent call last)",
            "\u001b[0;32m<ipython-input-11-63ae05f9cf35>\u001b[0m in \u001b[0;36m<cell line: 2>\u001b[0;34m()\u001b[0m\n\u001b[1;32m      1\u001b[0m \u001b[0msurvey_data\u001b[0m \u001b[0;34m=\u001b[0m \u001b[0mpd\u001b[0m\u001b[0;34m.\u001b[0m\u001b[0mread_csv\u001b[0m\u001b[0;34m(\u001b[0m\u001b[0mabsolutePath\u001b[0m \u001b[0;34m+\u001b[0m \u001b[0mcsv_file\u001b[0m\u001b[0;34m)\u001b[0m\u001b[0;34m\u001b[0m\u001b[0;34m\u001b[0m\u001b[0m\n\u001b[0;32m----> 2\u001b[0;31m \u001b[0mnames\u001b[0m \u001b[0;34m=\u001b[0m \u001b[0mlist\u001b[0m\u001b[0;34m(\u001b[0m\u001b[0msurvey_data\u001b[0m\u001b[0;34m[\u001b[0m\u001b[0;34m\"Name\"\u001b[0m\u001b[0;34m]\u001b[0m\u001b[0;34m)\u001b[0m\u001b[0;34m\u001b[0m\u001b[0;34m\u001b[0m\u001b[0m\n\u001b[0m\u001b[1;32m      3\u001b[0m \u001b[0mnetvis_ids\u001b[0m \u001b[0;34m=\u001b[0m \u001b[0mlist\u001b[0m\u001b[0;34m(\u001b[0m\u001b[0msurvey_data\u001b[0m\u001b[0;34m[\u001b[0m\u001b[0;34m\"#netvis\"\u001b[0m\u001b[0;34m]\u001b[0m\u001b[0;34m)\u001b[0m\u001b[0;34m\u001b[0m\u001b[0;34m\u001b[0m\u001b[0m\n",
            "\u001b[0;32m/usr/local/lib/python3.10/dist-packages/pandas/core/frame.py\u001b[0m in \u001b[0;36m__getitem__\u001b[0;34m(self, key)\u001b[0m\n\u001b[1;32m   3805\u001b[0m             \u001b[0;32mif\u001b[0m \u001b[0mself\u001b[0m\u001b[0;34m.\u001b[0m\u001b[0mcolumns\u001b[0m\u001b[0;34m.\u001b[0m\u001b[0mnlevels\u001b[0m \u001b[0;34m>\u001b[0m \u001b[0;36m1\u001b[0m\u001b[0;34m:\u001b[0m\u001b[0;34m\u001b[0m\u001b[0;34m\u001b[0m\u001b[0m\n\u001b[1;32m   3806\u001b[0m                 \u001b[0;32mreturn\u001b[0m \u001b[0mself\u001b[0m\u001b[0;34m.\u001b[0m\u001b[0m_getitem_multilevel\u001b[0m\u001b[0;34m(\u001b[0m\u001b[0mkey\u001b[0m\u001b[0;34m)\u001b[0m\u001b[0;34m\u001b[0m\u001b[0;34m\u001b[0m\u001b[0m\n\u001b[0;32m-> 3807\u001b[0;31m             \u001b[0mindexer\u001b[0m \u001b[0;34m=\u001b[0m \u001b[0mself\u001b[0m\u001b[0;34m.\u001b[0m\u001b[0mcolumns\u001b[0m\u001b[0;34m.\u001b[0m\u001b[0mget_loc\u001b[0m\u001b[0;34m(\u001b[0m\u001b[0mkey\u001b[0m\u001b[0;34m)\u001b[0m\u001b[0;34m\u001b[0m\u001b[0;34m\u001b[0m\u001b[0m\n\u001b[0m\u001b[1;32m   3808\u001b[0m             \u001b[0;32mif\u001b[0m \u001b[0mis_integer\u001b[0m\u001b[0;34m(\u001b[0m\u001b[0mindexer\u001b[0m\u001b[0;34m)\u001b[0m\u001b[0;34m:\u001b[0m\u001b[0;34m\u001b[0m\u001b[0;34m\u001b[0m\u001b[0m\n\u001b[1;32m   3809\u001b[0m                 \u001b[0mindexer\u001b[0m \u001b[0;34m=\u001b[0m \u001b[0;34m[\u001b[0m\u001b[0mindexer\u001b[0m\u001b[0;34m]\u001b[0m\u001b[0;34m\u001b[0m\u001b[0;34m\u001b[0m\u001b[0m\n",
            "\u001b[0;32m/usr/local/lib/python3.10/dist-packages/pandas/core/indexes/base.py\u001b[0m in \u001b[0;36mget_loc\u001b[0;34m(self, key, method, tolerance)\u001b[0m\n\u001b[1;32m   3802\u001b[0m                 \u001b[0;32mreturn\u001b[0m \u001b[0mself\u001b[0m\u001b[0;34m.\u001b[0m\u001b[0m_engine\u001b[0m\u001b[0;34m.\u001b[0m\u001b[0mget_loc\u001b[0m\u001b[0;34m(\u001b[0m\u001b[0mcasted_key\u001b[0m\u001b[0;34m)\u001b[0m\u001b[0;34m\u001b[0m\u001b[0;34m\u001b[0m\u001b[0m\n\u001b[1;32m   3803\u001b[0m             \u001b[0;32mexcept\u001b[0m \u001b[0mKeyError\u001b[0m \u001b[0;32mas\u001b[0m \u001b[0merr\u001b[0m\u001b[0;34m:\u001b[0m\u001b[0;34m\u001b[0m\u001b[0;34m\u001b[0m\u001b[0m\n\u001b[0;32m-> 3804\u001b[0;31m                 \u001b[0;32mraise\u001b[0m \u001b[0mKeyError\u001b[0m\u001b[0;34m(\u001b[0m\u001b[0mkey\u001b[0m\u001b[0;34m)\u001b[0m \u001b[0;32mfrom\u001b[0m \u001b[0merr\u001b[0m\u001b[0;34m\u001b[0m\u001b[0;34m\u001b[0m\u001b[0m\n\u001b[0m\u001b[1;32m   3805\u001b[0m             \u001b[0;32mexcept\u001b[0m \u001b[0mTypeError\u001b[0m\u001b[0;34m:\u001b[0m\u001b[0;34m\u001b[0m\u001b[0;34m\u001b[0m\u001b[0m\n\u001b[1;32m   3806\u001b[0m                 \u001b[0;31m# If we have a listlike key, _check_indexing_error will raise\u001b[0m\u001b[0;34m\u001b[0m\u001b[0;34m\u001b[0m\u001b[0m\n",
            "\u001b[0;31mKeyError\u001b[0m: 'Name'"
          ]
        }
      ],
      "source": [
        "survey_data = pd.read_csv(absolutePath + csv_file)\n",
        "names = list(survey_data[\"Name\"])\n",
        "netvis_ids = list(survey_data[\"#netvis\"])"
      ]
    },
    {
      "cell_type": "markdown",
      "id": "3fc8ea02",
      "metadata": {
        "id": "3fc8ea02",
        "papermill": {},
        "tags": []
      },
      "source": [
        "## Collect Variable Information\n",
        "\n",
        "### Make selections of the ranges/variables you want to look at"
      ]
    },
    {
      "cell_type": "code",
      "execution_count": null,
      "id": "28778657",
      "metadata": {
        "id": "28778657",
        "papermill": {},
        "tags": []
      },
      "outputs": [],
      "source": [
        "min_value = None\n",
        "max_value = None\n",
        "slider_name = None\n",
        "\n",
        "# Iterate through the data to find the min and max values\n",
        "name_level = True\n",
        "for author_data in json_data.values():\n",
        "    if name_level:\n",
        "        slider_name = author_data['slider_label']\n",
        "        name_level = False\n",
        "        continue\n",
        "    for value in author_data.values():\n",
        "        if 'slider_variable' in value.keys():\n",
        "            minimum = value['slider_variable'][0]\n",
        "            maximum = value['slider_variable'][-1]\n",
        "\n",
        "            # Update min and max values if necessary\n",
        "            if min_value is None:\n",
        "                min_value = minimum\n",
        "            elif minimum < min_value:\n",
        "                min_value = minimum\n",
        "\n",
        "            if max_value is None:\n",
        "                max_value = maximum\n",
        "            elif maximum > max_value:\n",
        "                max_value = maximum\n",
        "\n",
        "\n",
        "range_slider = pn.widgets.RangeSlider(\n",
        "    name='Select Scaling Range',\n",
        "    start=min_value,\n",
        "    end=max_value,\n",
        "    step=1\n",
        ")\n",
        "\n",
        "message = pn.pane.HTML(\"<b><span style='color:red; font-size: 150%;'>Select the Years to Include</span></b>\", width=700)\n",
        "pn.Column(message, range_slider)"
      ]
    },
    {
      "cell_type": "code",
      "execution_count": null,
      "id": "52352321",
      "metadata": {
        "id": "52352321",
        "papermill": {},
        "tags": []
      },
      "outputs": [],
      "source": [
        "url = 'https://www.iban.com/country-codes'\n",
        "\n",
        "# Send an HTTP GET request to the URL\n",
        "response = requests.get(url)\n",
        "soup = BeautifulSoup(response.text, 'html.parser')\n",
        "\n",
        "country_table = soup.find('table', {'id': 'myTable'})\n",
        "\n",
        "    # Initialize a dictionary to store the country codes\n",
        "country_codes = {}\n",
        "\n",
        "    # Iterate through the rows of the table\n",
        "for row in country_table.find_all('tr')[1:]:\n",
        "    columns = row.find_all('td')\n",
        "    if len(columns) >= 2:\n",
        "        country_name = columns[0].text.strip()\n",
        "        alpha_2_code = columns[1].text.strip()\n",
        "        country_codes[country_name] = alpha_2_code\n",
        "country_codes[\"Unknown\"] = 'un'\n",
        "country_codes = {v: k for k, v in country_codes.items()}\n",
        "\n",
        "unique_icons = set()\n",
        "icons_count = {}\n",
        "\n",
        "# Iterate through the data and collect unique icon values\n",
        "for entry in json_data['data'].values():\n",
        "    icon = entry.get('icon')\n",
        "    icon = icon.split(\"/\")[2].split(\".\")[0]\n",
        "    if icon:\n",
        "        unique_icons.add(icon)\n",
        "    if icon in icons_count:\n",
        "        icons_count[icon] += 1\n",
        "    else:\n",
        "        icons_count[icon] = 1\n",
        "\n",
        "# Convert the set to a list if needed\n",
        "unique_icons_list = list(unique_icons)\n",
        "\n",
        "\n",
        "# Print the unique icon values\n",
        "countries_included = []\n",
        "for item in unique_icons_list:\n",
        "    countries_included.append(country_codes[item])\n",
        "\n",
        "icons_count_full = {}\n",
        "for key in icons_count.keys():\n",
        "    new_key = country_codes[key]\n",
        "    icons_count_full[new_key] = icons_count[key]\n",
        "\n",
        "print(F\"Countries Included: {countries_included}\")\n",
        "print(F\"Occurences: {icons_count_full}\")"
      ]
    },
    {
      "cell_type": "code",
      "execution_count": null,
      "id": "b482e236",
      "metadata": {
        "id": "b482e236",
        "papermill": {},
        "tags": []
      },
      "outputs": [],
      "source": [
        "left_text_1 = pn.Row(\"<b><span style='color:red; font-size: 150%;'>Select Countries to Include, Left is NOT Included and Right is Included</span></b>\")\n",
        "binary_selector_1 = pn.widgets.CrossSelector(\n",
        "    options=countries_included,\n",
        "    width=630,\n",
        "    value=countries_included  # Set the default value to include all options on the right side\n",
        ")\n",
        "left_panel_1 = pn.Column(left_text_1, binary_selector_1, css_classes=['widget-box'], margin=(0,30,0,0))\n",
        "\n",
        "# Display widgets\n",
        "widgets_1 = pn.Row(left_panel_1)\n",
        "full_display_1 = pn.Column(widgets_1)\n",
        "full_display_1"
      ]
    },
    {
      "cell_type": "code",
      "execution_count": null,
      "id": "c1c07d11",
      "metadata": {
        "id": "c1c07d11",
        "papermill": {},
        "tags": []
      },
      "outputs": [],
      "source": [
        "categories = {}\n",
        "category_name = None\n",
        "\n",
        "name_level = True\n",
        "for author_data in json_data.values():\n",
        "    if name_level:\n",
        "        category_name = author_data['category']\n",
        "        name_level = False\n",
        "        continue\n",
        "    for value in author_data.values():\n",
        "        if 'category' in value.keys():\n",
        "            curr_category = value['category']\n",
        "            if curr_category not in categories:\n",
        "                categories[curr_category] = 1\n",
        "            else:\n",
        "                categories[curr_category] += 1\n",
        "\n",
        "left_text = pn.Row(\"<b><span style='color:red; font-size: 150%;'>Select Categories, Left is NOT Included and Right is Included</span></b>\")\n",
        "binary_selector = pn.widgets.CrossSelector(\n",
        "    options=list(categories.keys()),\n",
        "    width=630,\n",
        "    value=list(categories.keys())  # Set the default value to include all options on the right side\n",
        ")\n",
        "left_panel = pn.Column(left_text, binary_selector, css_classes=['widget-box'], margin=(0,30,0,0))\n",
        "\n",
        "# Display widgets\n",
        "widgets = pn.Row(left_panel)\n",
        "full_display = pn.Column(widgets)\n",
        "full_display"
      ]
    },
    {
      "cell_type": "code",
      "execution_count": null,
      "id": "d67b09e5",
      "metadata": {
        "id": "d67b09e5",
        "papermill": {},
        "tags": []
      },
      "outputs": [],
      "source": [
        "columns_to_scale_by = []\n",
        "for column in survey_data.columns:\n",
        "    if \"#number\" in column:\n",
        "        columns_to_scale_by.append(column)\n",
        "\n",
        "columns_to_scale_by.append(\"None\")\n",
        "\n",
        "scaling_select = pn.widgets.RadioBoxGroup(name='Select notebook', options=columns_to_scale_by, inline=False)\n",
        "message = pn.pane.HTML(\"<b><span style='color:red; font-size: 150%;'>Select the Node Scaling Option (the realtive magnitude of each node)</span></b>\", width=700)\n",
        "pn.Column(message, scaling_select)"
      ]
    },
    {
      "cell_type": "code",
      "execution_count": null,
      "id": "a145c461",
      "metadata": {
        "id": "a145c461",
        "papermill": {},
        "tags": []
      },
      "outputs": [],
      "source": [
        "years_included = list(range(range_slider.value[0], range_slider.value[1] + 1))\n",
        "countries_to_include = binary_selector_1.value\n",
        "categories_included = binary_selector.value\n",
        "scaling_choice = scaling_select.value"
      ]
    },
    {
      "cell_type": "markdown",
      "id": "0312a493",
      "metadata": {
        "id": "0312a493",
        "papermill": {},
        "tags": []
      },
      "source": [
        "## Edit the JSON File"
      ]
    },
    {
      "cell_type": "code",
      "execution_count": null,
      "id": "895dd533",
      "metadata": {
        "id": "895dd533",
        "papermill": {},
        "tags": []
      },
      "outputs": [],
      "source": [
        "json_new_data = copy.deepcopy(json_data)"
      ]
    },
    {
      "cell_type": "code",
      "execution_count": null,
      "id": "3986e887",
      "metadata": {
        "id": "3986e887",
        "papermill": {},
        "tags": []
      },
      "outputs": [],
      "source": [
        "to_remove = []\n",
        "to_remove_netvis = []\n",
        "ct = 0\n",
        "\n",
        "for person, data in json_new_data['data'].items():\n",
        "    curr_country = data['icon'].split(\"/\")[2].split(\".\")[0]\n",
        "    if curr_country in country_codes.keys():\n",
        "        if country_codes[curr_country] not in countries_to_include:\n",
        "            to_remove.append(names[ct])\n",
        "            to_remove_netvis.append(person)\n",
        "            ct += 1\n",
        "            continue\n",
        "\n",
        "    data['slider_variable'] = [year for year in data['slider_variable'] if year in years_included]\n",
        "    if len(data['slider_variable']) == 0:\n",
        "        to_remove.append(names[ct])\n",
        "        to_remove_netvis.append(person)\n",
        "        ct += 1\n",
        "        continue\n",
        "    for connection in data['connections']:\n",
        "        connection['slider_variable'] = [year for year in connection['slider_variable'] if year in years_included]\n",
        "\n",
        "    if data['category'] not in categories_included:\n",
        "        to_remove.append(names[ct])\n",
        "        to_remove_netvis.append(person)\n",
        "        ct += 1\n",
        "        continue\n",
        "    ct += 1\n",
        "\n",
        "\n",
        "edited_json_data = {}\n",
        "edited_json_data['config'] = json_new_data['config']\n",
        "temp_dict = {}\n",
        "for key, value in json_new_data['data'].items():\n",
        "    if key not in to_remove_netvis:\n",
        "        temp_dict[key] = value\n",
        "edited_json_data['data'] = temp_dict\n",
        "for key, value in edited_json_data['data'].items():\n",
        "    temp_keep = []\n",
        "    for connection in value['connections']:\n",
        "        if connection['name'] not in to_remove and connection['slider_variable'] != [] and connection['category'] in categories_included:\n",
        "            temp_keep.append(connection)\n",
        "    value['connections'] = temp_keep"
      ]
    },
    {
      "cell_type": "code",
      "execution_count": null,
      "id": "63446f07",
      "metadata": {
        "id": "63446f07",
        "papermill": {},
        "tags": []
      },
      "outputs": [],
      "source": [
        "names_edited = []\n",
        "netvis_edited = []\n",
        "curr_ct = 0\n",
        "for netvis_id in netvis_ids:\n",
        "    if netvis_id not in to_remove_netvis and netvis_id in edited_json_data['data'].keys():\n",
        "        names_edited.append(names[curr_ct])\n",
        "        netvis_edited.append(netvis_id)\n",
        "    curr_ct += 1\n",
        "survey_data_edited = copy.deepcopy(survey_data)\n",
        "if scaling_choice != \"None\":\n",
        "    survey_data_edited[scaling_choice] = survey_data_edited[scaling_choice].replace(np.NaN, 0)\n",
        "    survey_data_edited[scaling_choice] = survey_data_edited[scaling_choice] * (0.025 / survey_data_edited[scaling_choice].mean())\n",
        "else:\n",
        "    survey_data_edited['scaling'] = 0.025\n",
        "    scaling_choice = 'scaling'"
      ]
    },
    {
      "cell_type": "code",
      "execution_count": null,
      "id": "c0f06159",
      "metadata": {
        "id": "c0f06159",
        "papermill": {},
        "tags": []
      },
      "outputs": [],
      "source": [
        "netvis_name_dict = survey_data.set_index(\"#netvis\")[\"Name\"].to_dict()"
      ]
    },
    {
      "cell_type": "code",
      "execution_count": null,
      "id": "43acb0ec",
      "metadata": {
        "id": "43acb0ec",
        "papermill": {},
        "tags": []
      },
      "outputs": [],
      "source": [
        "unique_netvis_keys = list(edited_json_data['data'].keys())\n",
        "unique_keys = []\n",
        "for item in unique_netvis_keys:\n",
        "    unique_keys.append(netvis_name_dict[item])\n",
        "unique_selectors = {}\n",
        "for value in edited_json_data['data'].values():\n",
        "    for connection in value['connections']:\n",
        "        for selector in connection['selector']:\n",
        "            if selector not in unique_selectors:\n",
        "                unique_selectors[selector] = 1"
      ]
    },
    {
      "cell_type": "markdown",
      "id": "101aee18",
      "metadata": {
        "id": "101aee18",
        "papermill": {},
        "tags": []
      },
      "source": [
        "## Select Which Individuals and Selectors to Keep in the Visualization and Analysis"
      ]
    },
    {
      "cell_type": "code",
      "execution_count": null,
      "id": "2b174098",
      "metadata": {
        "id": "2b174098",
        "papermill": {},
        "tags": []
      },
      "outputs": [],
      "source": [
        "left_text_2 = pn.Row(\"<b><span style='color:red; font-size: 150%;'>Select Names to Include, Left is NOT Included and Right is Included</span></b>\")\n",
        "binary_selector_2 = pn.widgets.CrossSelector(\n",
        "    options=unique_keys,\n",
        "    width=630,\n",
        "    value=unique_keys  # Set the default value to include all options on the right side\n",
        ")\n",
        "left_panel_2 = pn.Column(left_text_2, binary_selector_2, css_classes=['widget-box'], margin=(0,30,0,0))\n",
        "\n",
        "# Display widgets\n",
        "widgets_2 = pn.Row(left_panel_2)\n",
        "full_display_2 = pn.Column(widgets_2)\n",
        "full_display_2\n"
      ]
    },
    {
      "cell_type": "code",
      "execution_count": null,
      "id": "ac5492c5",
      "metadata": {
        "id": "ac5492c5",
        "papermill": {},
        "tags": []
      },
      "outputs": [],
      "source": [
        "left_text_3 = pn.Row(\"<b><span style='color:red; font-size: 150%;'>Select Links to Include, Left is NOT Included and Right is Included</span></b>\")\n",
        "binary_selector_3 = pn.widgets.CrossSelector(\n",
        "    options=list(unique_selectors.keys()),\n",
        "    width=630,\n",
        "    value=list(unique_selectors.keys())  # Set the default value to an empty list, so initially, nothing is selected on the right side\n",
        ")\n",
        "left_panel_3 = pn.Column(left_text_3, binary_selector_3, css_classes=['widget-box'], margin=(0, 30, 0, 0))\n",
        "\n",
        "# Display widgets\n",
        "widgets_3 = pn.Row(left_panel_3)\n",
        "full_display_3 = pn.Column(widgets_3)\n",
        "full_display_3\n"
      ]
    },
    {
      "cell_type": "code",
      "execution_count": null,
      "id": "47511123",
      "metadata": {
        "id": "47511123",
        "papermill": {},
        "tags": []
      },
      "outputs": [],
      "source": [
        "names_to_include = binary_selector_2.value\n",
        "selectors_include = binary_selector_3.value"
      ]
    },
    {
      "cell_type": "code",
      "execution_count": null,
      "id": "e368e149",
      "metadata": {
        "id": "e368e149",
        "papermill": {},
        "tags": []
      },
      "outputs": [],
      "source": [
        "netvis_name_dict_2 = survey_data.set_index(\"Name\")[\"#netvis\"].to_dict()\n",
        "\n",
        "netvis_included = {}\n",
        "for name in names_to_include:\n",
        "    if netvis_name_dict_2[name] not in netvis_included:\n",
        "        netvis_included[netvis_name_dict_2[name]] = 1\n",
        "final_netvis_include = list(netvis_included.keys())"
      ]
    },
    {
      "cell_type": "code",
      "execution_count": null,
      "id": "669d2caf",
      "metadata": {
        "id": "669d2caf",
        "papermill": {},
        "tags": []
      },
      "outputs": [],
      "source": [
        "to_remove_netvis_2 = []\n",
        "to_remove_2 = []\n",
        "edited_json_data_copy = copy.deepcopy(edited_json_data)\n",
        "\n",
        "for person, data in edited_json_data_copy['data'].items():\n",
        "    for connection in data['connections']:\n",
        "        connection['selector'] = [selector for selector in connection['selector'] if selector in selectors_include]\n",
        "\n",
        "    if person not in final_netvis_include:\n",
        "        to_remove_netvis_2.append(person)\n",
        "        to_remove_2.append(netvis_name_dict[person])\n",
        "\n",
        "\n",
        "final_json_visual = {}\n",
        "final_json_visual['config'] = edited_json_data_copy['config']\n",
        "temp_dict = {}\n",
        "for key, value in edited_json_data_copy['data'].items():\n",
        "    if key not in to_remove_netvis_2:\n",
        "        temp_dict[key] = value\n",
        "final_json_visual['data'] = temp_dict\n",
        "for key, value in final_json_visual['data'].items():\n",
        "    temp_keep = []\n",
        "    for connection in value['connections']:\n",
        "        if connection['name'] not in to_remove_2 and connection['selector'] != []:\n",
        "            temp_keep.append(connection)\n",
        "    value['connections'] = temp_keep"
      ]
    },
    {
      "cell_type": "markdown",
      "id": "3a1ebcf1",
      "metadata": {
        "id": "3a1ebcf1",
        "papermill": {},
        "tags": []
      },
      "source": [
        "## Visualization"
      ]
    },
    {
      "cell_type": "code",
      "execution_count": null,
      "id": "a1aabc04",
      "metadata": {
        "id": "a1aabc04",
        "papermill": {},
        "scrolled": true,
        "tags": []
      },
      "outputs": [],
      "source": [
        "# Your original code to create the graph\n",
        "G = nx.Graph()\n",
        "\n",
        "selectors = []\n",
        "for item in final_json_visual['data'].values():\n",
        "    for connection in item['connections']:\n",
        "        if connection['selector'] not in selectors:\n",
        "            selectors.append(connection['selector'])\n",
        "selector_colors = [plt.cm.viridis(i / len(selectors)) for i in range(len(selectors))]\n",
        "\n",
        "for item in final_json_visual['data'].values():\n",
        "    for connection in item['connections']:\n",
        "        connection['selector_color'] = selector_colors[selectors.index(connection['selector'])]\n",
        "\n",
        "count_curr = 0\n",
        "for node_id, node_data in final_json_visual['data'].items():\n",
        "    if 'connections' in node_data:\n",
        "        for connection in node_data['connections']:\n",
        "            G.add_edge(netvis_name_dict[node_id], connection['name'], selector_color=connection['selector_color'])  # Assign 'selector_color' to the edge\n",
        "    count_curr += 1\n",
        "\n",
        "# Create a list of all available nodes\n",
        "all_nodes = list(G.nodes())\n",
        "\n",
        "# Create a DataFrame 'df' with node names and associated sizes (replace 'node_sizes_column' with the actual column name)\n",
        "df = pd.DataFrame({'node_name': survey_data_edited[\"Name\"], 'node_size': survey_data_edited[scaling_choice]})\n",
        "df['node_size'] = 1000 * df['node_size'] + 100\n",
        "\n",
        "df = df[df[\"node_name\"].isin(all_nodes)]\n",
        "\n",
        "# Create a dictionary to map node names to sizes\n",
        "node_sizes = dict(zip(df['node_name'], df['node_size']))\n",
        "\n",
        "# Create an interactive network visualization\n",
        "nt = Network(height='500px', width='800px', directed=True, notebook=True)\n",
        "\n",
        "# Add nodes and edges to the network\n",
        "for node in all_nodes:\n",
        "    nt.add_node(node, size=node_sizes.get(node, 1), label=node)\n",
        "\n",
        "# Add edge colors based on the 'selector_color' attribute\n",
        "for u, v, data in G.edges(data=True):\n",
        "    edge_color = data.get('selector_color', 'black')  # Default to black if 'selector_color' is not defined\n",
        "    nt.add_edge(u, v, color=edge_color)\n",
        "\n",
        "# Save the visualization to an HTML file (optional)\n",
        "nt.show('network_visualization.html')\n"
      ]
    },
    {
      "cell_type": "markdown",
      "id": "cde0947a",
      "metadata": {
        "id": "cde0947a",
        "papermill": {},
        "tags": []
      },
      "source": [
        "## Analysis\n",
        "\n",
        "### Nodes and Edges Analysis"
      ]
    },
    {
      "cell_type": "code",
      "execution_count": null,
      "id": "5f38f896",
      "metadata": {
        "id": "5f38f896",
        "papermill": {},
        "tags": []
      },
      "outputs": [],
      "source": [
        "# Node-Centric Metrics\n",
        "average_clustering = nx.average_clustering(G)\n",
        "degree_centrality = nx.degree_centrality(G)\n",
        "betweenness_centrality = nx.betweenness_centrality(G)\n",
        "closeness_centrality = nx.closeness_centrality(G)\n",
        "pagerank = nx.pagerank(G, alpha=0.85)\n",
        "\n",
        "# Graph-Wide Metrics\n",
        "connected_components = list(nx.connected_components(G))\n",
        "clustering_coefficient = nx.average_clustering(G)\n",
        "degree_distribution = list(nx.degree_histogram(G))\n",
        "\n",
        "# Print the results (you can modify this to suit your needs)\n",
        "print(\"Node-Centric Metrics:\")\n",
        "#print(\"Average Clustering Coefficient:\", average_clustering)\n",
        "#print(\"Degree Centrality:\", degree_centrality)\n",
        "#print(\"Betweenness Centrality:\", betweenness_centrality)\n",
        "#print(\"Closeness Centrality:\", closeness_centrality)\n",
        "#print(\"PageRank:\", pagerank)\n",
        "\n",
        "print(\"\\nGraph-Wide Metrics:\")\n",
        "#print(\"Connected Components:\", connected_components)\n",
        "#print(\"Clustering Coefficient:\", clustering_coefficient)\n",
        "#print(\"Degree Distribution:\", degree_distribution)\n"
      ]
    },
    {
      "cell_type": "markdown",
      "id": "d1af444e",
      "metadata": {
        "id": "d1af444e",
        "papermill": {},
        "tags": []
      },
      "source": [
        "### Analysis of Edited Dataset Variables"
      ]
    },
    {
      "cell_type": "code",
      "execution_count": null,
      "id": "c47c47db",
      "metadata": {
        "id": "c47c47db",
        "papermill": {},
        "tags": []
      },
      "outputs": [],
      "source": [
        "edited_survey = survey_data_edited[survey_data_edited['#netvis'].isin(list(final_json_visual['data'].keys()))]"
      ]
    },
    {
      "cell_type": "markdown",
      "id": "70aeb046",
      "metadata": {
        "id": "70aeb046",
        "papermill": {},
        "tags": []
      },
      "source": [
        "#### Overall Analysis"
      ]
    },
    {
      "cell_type": "code",
      "execution_count": null,
      "id": "227ec85a",
      "metadata": {
        "id": "227ec85a",
        "papermill": {},
        "tags": []
      },
      "outputs": [],
      "source": [
        "chosen = analyze_column.value\n",
        "\n",
        "profile = ProfileReport(edited_survey)\n",
        "\n",
        "# To view the report as an interactive HTML file, you can use the following line:\n",
        "# profile.to_file(\"data_profile.html\")\n",
        "\n",
        "# To display the report in a Jupyter Notebook (or IPython):\n",
        "profile.to_notebook_iframe()"
      ]
    },
    {
      "cell_type": "markdown",
      "id": "479a9eba",
      "metadata": {
        "id": "479a9eba",
        "papermill": {},
        "tags": []
      },
      "source": [
        "#### Analysis of Numerical Column"
      ]
    },
    {
      "cell_type": "code",
      "execution_count": null,
      "id": "ac21ce2c",
      "metadata": {
        "id": "ac21ce2c",
        "papermill": {},
        "tags": []
      },
      "outputs": [],
      "source": [
        "columns_to_analyze_2 = []\n",
        "for column in survey_data.columns:\n",
        "    if \"#number\" in column:\n",
        "        columns_to_analyze_2.append(column)\n",
        "\n",
        "analyze_column = pn.widgets.RadioBoxGroup(name='Select notebook', options=columns_to_analyze_2, inline=False)\n",
        "message = pn.pane.HTML(\"<b><span style='color:red; font-size: 150%;'>Select the Numerical Variable to Analyze</span></b>\", width=700)\n",
        "pn.Column(message, analyze_column)"
      ]
    },
    {
      "cell_type": "code",
      "execution_count": null,
      "id": "50f9363e",
      "metadata": {
        "id": "50f9363e",
        "papermill": {},
        "tags": []
      },
      "outputs": [],
      "source": [
        "chosen = analyze_column.value\n",
        "\n",
        "edited_survey[chosen].describe()"
      ]
    },
    {
      "cell_type": "markdown",
      "id": "5120c5d4",
      "metadata": {
        "id": "5120c5d4",
        "papermill": {},
        "tags": []
      },
      "source": [
        "#### Analysis of Numerical Column Conditioned on a Categorical Column"
      ]
    },
    {
      "cell_type": "code",
      "execution_count": null,
      "id": "32e881e9",
      "metadata": {
        "id": "32e881e9",
        "papermill": {},
        "tags": []
      },
      "outputs": [],
      "source": [
        "analyze_column_2 = pn.widgets.RadioBoxGroup(name='Select notebook', options=columns_to_analyze_2, inline=False)\n",
        "message = pn.pane.HTML(\"<b><span style='color:red; font-size: 150%;'>Select the Numerical Variable to Analyze</span></b>\", width=700)\n",
        "pn.Column(message, analyze_column_2)"
      ]
    },
    {
      "cell_type": "code",
      "execution_count": null,
      "id": "1fb2d1f6",
      "metadata": {
        "id": "1fb2d1f6",
        "papermill": {},
        "tags": []
      },
      "outputs": [],
      "source": [
        "numerical_column = analyze_column_2.value"
      ]
    },
    {
      "cell_type": "code",
      "execution_count": null,
      "id": "31270e7e",
      "metadata": {
        "id": "31270e7e",
        "papermill": {},
        "tags": []
      },
      "outputs": [],
      "source": [
        "columns_to_analyze_3 = []\n",
        "\n",
        "for column in survey_data.columns:\n",
        "    if survey_data[column].nunique() / len(survey_data) < 0.25 and column != numerical_column:\n",
        "        columns_to_analyze_3.append(column)\n",
        "\n",
        "analyze_column_3 = pn.widgets.RadioBoxGroup(name='Select notebook', options=columns_to_analyze_3, inline=False)\n",
        "message = pn.pane.HTML(\"<b><span style='color:red; font-size: 150%;'>Select the Categorical Variable to Analyze</span></b>\", width=700)\n",
        "pn.Column(message, analyze_column_3)"
      ]
    },
    {
      "cell_type": "code",
      "execution_count": null,
      "id": "e667b34b",
      "metadata": {
        "id": "e667b34b",
        "papermill": {},
        "tags": []
      },
      "outputs": [],
      "source": [
        "categorical_column = analyze_column_3.value"
      ]
    },
    {
      "cell_type": "code",
      "execution_count": null,
      "id": "cf6168c3",
      "metadata": {
        "id": "cf6168c3",
        "papermill": {},
        "tags": []
      },
      "outputs": [],
      "source": [
        "profile = ProfileReport(edited_survey[[numerical_column, categorical_column]])\n",
        "profile.to_notebook_iframe()"
      ]
    },
    {
      "cell_type": "code",
      "execution_count": null,
      "id": "0b4550fc",
      "metadata": {
        "id": "0b4550fc",
        "papermill": {},
        "tags": []
      },
      "outputs": [],
      "source": [
        "def calculate_statistics(data, numeric_col, categorical_col):\n",
        "    grouped = data.groupby(categorical_col)[numeric_col].agg(['mean', 'median', 'std', 'min', 'max', 'count'])\n",
        "    return grouped\n",
        "\n",
        "calculate_statistics(edited_survey, numerical_column, categorical_column)"
      ]
    }
  ],
  "metadata": {
    "colab": {
      "provenance": []
    },
    "kernelspec": {
      "display_name": "Python 3 (ipykernel)",
      "language": "python",
      "name": "python3"
    },
    "language_info": {
      "codemirror_mode": {
        "name": "ipython",
        "version": 3
      },
      "file_extension": ".py",
      "mimetype": "text/x-python",
      "name": "python",
      "nbconvert_exporter": "python",
      "pygments_lexer": "ipython3",
      "version": "3.10.10"
    },
    "papermill": {
      "default_parameters": {},
      "environment_variables": {},
      "input_path": "myclone/operations/networks/networks.ipynb",
      "output_path": "/content/drive/MyDrive/suave/networks.ipynb",
      "parameters": {
        "active_object": "null",
        "activeobject": "null",
        "csv": "suavedemos_SDG_Indicators_2018.csv",
        "csv_file": "suavedemos_SDG_Indicators_2018.csv",
        "dzc": "none",
        "dzc_file": "none",
        "full_notebook_url": [
          "http",
          "suave-colab.sdsc.edu",
          "/mknb/",
          "",
          "user=joeykaminsky2&csv=suavedemos_SDG_Indicators_2018.csv&params=none&dzc=none&activeobject=null&surveyurl=https://suave2.sdsc.edu/main/file=suavedemos_SDG_Indicators_2018.csv&view=grid",
          ""
        ],
        "params": "none",
        "survey_url": "https://suave2.sdsc.edu/main/file=suavedemos_SDG_Indicators_2018.csv",
        "surveyurl": "https://suave2.sdsc.edu/main/file=suavedemos_SDG_Indicators_2018.csv",
        "user": "joeykaminsky2",
        "view": "grid",
        "views": "000000"
      },
      "version": "2.5.0"
    }
  },
  "nbformat": 4,
  "nbformat_minor": 5
}
